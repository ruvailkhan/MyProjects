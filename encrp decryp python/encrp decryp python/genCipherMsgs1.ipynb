{
 "cells": [
  {
   "cell_type": "code",
   "execution_count": 4,
   "id": "561f2985",
   "metadata": {},
   "outputs": [],
   "source": [
    "import os\n",
    "import sys\n",
    "\n",
    "msgs = [ \"One time pad is really a completely unbreakable cryptosystem\",\n",
    "         \"Encrypt and decrypt functions are each just an XOR operation\",\n",
    "         \"Key needs to be random bitstring with same length as message\",\n",
    "         \"A many time pad is very insecure and can be broken with ease\",\n",
    "         \"If you can decipher this you can see just how insecure it is\" ]\n",
    "\n",
    "def encode():\n",
    "    cleartext = input(\"Enter string: \")\n",
    "    key = input(\"Enter decryption password: \")\n",
    "    filename = input(\"Enter save name: \")\n",
    "\n",
    "    reps = (len(cleartext)-1)//len(key) +1\n",
    "\n",
    "    a1 = cleartext.encode('utf-8')\n",
    "    key = (key * reps)[:len(cleartext)].encode('utf-8')\n",
    "    cipher = bytes([i1^i2 for (i1,i2) in zip(a1,key)])\n",
    "    open(filename,'wb').write(cipher)"
   ]
  },
  {
   "cell_type": "code",
   "execution_count": null,
   "id": "fe4c0ea3",
   "metadata": {},
   "outputs": [],
   "source": []
  }
 ],
 "metadata": {
  "kernelspec": {
   "display_name": "Python 3 (ipykernel)",
   "language": "python",
   "name": "python3"
  },
  "language_info": {
   "codemirror_mode": {
    "name": "ipython",
    "version": 3
   },
   "file_extension": ".py",
   "mimetype": "text/x-python",
   "name": "python",
   "nbconvert_exporter": "python",
   "pygments_lexer": "ipython3",
   "version": "3.9.7"
  }
 },
 "nbformat": 4,
 "nbformat_minor": 5
}
