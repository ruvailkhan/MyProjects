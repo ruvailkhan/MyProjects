{
 "cells": [
  {
   "cell_type": "code",
   "execution_count": null,
   "id": "502a600e",
   "metadata": {},
   "outputs": [],
   "source": [
    "import os\n",
    "\n",
    "msgs = [ \"It was the best of times it was the worst of times it was th\",\n",
    "         \"e age of wisdom it was the age of foolishness it was the epo\",\n",
    "         \"ch of belief it was the epoch of incredulity it was the seas\",\n",
    "         \"on of Light it was the season of Darkness it was the spring \",\n",
    "         \"of hope it was the winter of despair we had everything befor\",\n",
    "         \"e us we had nothing before us we were all going direct to He\",\n",
    "         \"aven we were all going direct the other way in short the per\",\n",
    "         \"iod was so far like the present period that some of its nois\",\n",
    "         \"iest authorities insisted on its being received for good or \",\n",
    "         \"for evil in the superlative degree of comparison only The op\",\n",
    "         \"ening paragraph from A Tale Of Two Cities by Charles Dickens\" ]\n",
    "\n",
    "def decode():\n",
    "    key = input(\"Enter decryption password: \")\n",
    "    filename = input(\"Enter save name: \")\n",
    "\n",
    "    cipher = open(filename,'rb').read()\n",
    "    reps = (len(cipher)-1)//len(key) +1\n",
    "    key = (key * reps)[:len(cipher)].encode('utf-8')\n",
    "    clear = bytes([i1^i2 for (i1,i2) in zip(cipher,key)])\n",
    "    return clear.decode('utf-8')\n",
    "\n",
    "if sys.argv[1] == \"-d\":\n",
    "    print(decode())\n",
    "elif sys.argv[1] == '-e':\n",
    "    encode()\n",
    "else:\n",
    "    print(\"What?\")\n"
   ]
  }
 ],
 "metadata": {
  "kernelspec": {
   "display_name": "Python 3 (ipykernel)",
   "language": "python",
   "name": "python3"
  },
  "language_info": {
   "codemirror_mode": {
    "name": "ipython",
    "version": 3
   },
   "file_extension": ".py",
   "mimetype": "text/x-python",
   "name": "python",
   "nbconvert_exporter": "python",
   "pygments_lexer": "ipython3",
   "version": "3.9.7"
  }
 },
 "nbformat": 4,
 "nbformat_minor": 5
}
